{
 "cells": [
  {
   "cell_type": "markdown",
   "id": "3889faf4",
   "metadata": {},
   "source": [
    "# Análisis Estratégico de Precios Mayoristas para el Sector Retail de Frutas y Hortalizas\n",
    "\n",
    "**Autor: Ricardo Urdaneta**\n",
    "\n",
    "Fecha: 24 julio 2025\n",
    "\n",
    "\n",
    "---\n",
    "\n",
    "\n",
    "**FRESCORP S.A.** es una cadena de supermercados FICTICIA, con fuerte presencia en la venta de abarrotes, carnes y productos envasados. Recientemente, han notado un creciente interés de sus clientes por productos frescos, saludables y de origen local.\n",
    "\n",
    "Para capitalizar esta tendencia y competir con las grandes cadenas y ferias locales, la gerencia ha decidido lanzar una nueva línea de negocio: **\"FRESCORP Verde\"**, dedicada exclusivamente a la venta de frutas y hortalizas de alta calidad.\n",
    "\n",
    ">La empresa no tiene experiencia en la compra a gran escala de productos perecederos. El mercado de frutas y hortalizas es volátil y los precios cambian constantemente. Antes de invertir en logística, refrigeración y personal, necesitan un **plan de negocio basado en datos** para asegurar la rentabilidad del proyecto y ofrecer precios competitivos a sus clientes.\n",
    "\n",
    "---\n",
    "\n",
    "### - Objetivos del Análisis:\n",
    "\n",
    "Este análisis tiene como objetivo proporcionar una estrategia inicial para el lanzamiento de \"FRESCORP Verde\", respondiendo a preguntas críticas de negocio en tres áreas fundamentales.\n",
    "\n",
    "---\n",
    "\n",
    "### - Preguntas Clave:\n",
    "\n",
    "#### Selección de Cartera de Productos\n",
    "* ¿Qué productos tienen los precios de compra más estables a lo largo del año?\n",
    "* ¿Qué productos tienen el menor costo de adquisición promedio?\n",
    "* ¿Existen \"canastas básicas\" de productos (ej. tomate, cebolla, papa) cuyos precios combinados sean predecibles?\n",
    "\n",
    "#### Estrategia de Precios y Promociones\n",
    "* ¿Cuáles son los meses de \"temporada baja\" (precios más baratos) para productos populares como paltas, frutillas o uvas?\n",
    "* ¿Qué productos sufren las mayores alzas de precio?\n",
    "* ¿Podemos identificar productos \"gancho\" (baratos todo el año) y productos \"premium\" (volátiles pero con buen margen en temporada)?\n",
    "\n",
    "#### Optimización de la Cadena de Suministro\n",
    "* ¿Hay días específicos de la semana o quincenas del mes en los que los precios mayoristas tienden a ser más bajos?\n",
    "* ¿Cómo fluctúa el precio de productos clave que se pueden almacenar por más tiempo (ej. papa, zapallo)?\n",
    "---"
   ]
  },
  {
   "cell_type": "markdown",
   "id": "92d5518b",
   "metadata": {},
   "source": []
  }
 ],
 "metadata": {
  "kernelspec": {
   "display_name": "Python 3",
   "language": "python",
   "name": "python3"
  },
  "language_info": {
   "codemirror_mode": {
    "name": "ipython",
    "version": 3
   },
   "file_extension": ".py",
   "mimetype": "text/x-python",
   "name": "python",
   "nbconvert_exporter": "python",
   "pygments_lexer": "ipython3",
   "version": "3.13.5"
  }
 },
 "nbformat": 4,
 "nbformat_minor": 5
}
